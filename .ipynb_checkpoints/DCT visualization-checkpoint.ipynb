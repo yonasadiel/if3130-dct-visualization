{
 "cells": [
  {
   "cell_type": "code",
   "execution_count": null,
   "metadata": {},
   "outputs": [],
   "source": [
    "import cv2\n",
    "import numpy as np\n",
    "import matplotlib.pyplot as plt\n",
    "from math import sqrt, cos, pi\n",
    "\n",
    "N, M = 8, 8"
   ]
  },
  {
   "cell_type": "markdown",
   "metadata": {},
   "source": [
    "# Transform image into DCT"
   ]
  },
  {
   "cell_type": "code",
   "execution_count": null,
   "metadata": {},
   "outputs": [],
   "source": [
    "ganteng = cv2.imread('ganteng.jpg', cv2.IMREAD_GRAYSCALE)\n",
    "plt.imshow(ganteng, cmap='gray')"
   ]
  },
  {
   "cell_type": "code",
   "execution_count": null,
   "metadata": {},
   "outputs": [],
   "source": [
    "macroblocks = ganteng[128:128+N, 128:128+M]\n",
    "plt.imshow(macroblocks, cmap='gray')"
   ]
  },
  {
   "cell_type": "code",
   "execution_count": null,
   "metadata": {},
   "outputs": [],
   "source": [
    "np.float32(macroblocks)"
   ]
  },
  {
   "cell_type": "code",
   "execution_count": null,
   "metadata": {},
   "outputs": [],
   "source": [
    "shifted = (np.float32(macroblocks) - 128)\n",
    "shifted"
   ]
  },
  {
   "cell_type": "code",
   "execution_count": null,
   "metadata": {},
   "outputs": [],
   "source": [
    "dct = [[0 for _ in range(M)] for _ in range(N)]\n",
    "for i in range(N):\n",
    "    for j in range(M):\n",
    "        for k in range(N):\n",
    "            for l in range(M):\n",
    "                k_cos = cos(pi * (2 * k + 1) * i / 2.0 / N)\n",
    "                l_cos = cos(pi * (2 * l + 1) * j / 2.0 / M)\n",
    "                dct[i][j] += shifted[k][l] * k_cos * l_cos\n",
    "        dct[i][j] *= (sqrt(1.0 / N) if (i == 0) else sqrt(2.0 / N))\n",
    "        dct[i][j] *= (sqrt(1.0 / M) if (j == 0) else sqrt(2.0 / M))\n",
    "[[round(dct[i][j]) for j in range(M)] for i in range(N)]"
   ]
  },
  {
   "cell_type": "code",
   "execution_count": null,
   "metadata": {},
   "outputs": [],
   "source": [
    "dct_hint = cv2.imread('Dctjpeg.png')\n",
    "plt.imshow(dct_hint)"
   ]
  },
  {
   "cell_type": "markdown",
   "metadata": {},
   "source": [
    "# Transform DCT back to Image"
   ]
  },
  {
   "cell_type": "code",
   "execution_count": null,
   "metadata": {},
   "outputs": [],
   "source": [
    "new_shifted = [[0 for _ in range(M)] for _ in range(N)]\n",
    "for i in range(N):\n",
    "    for j in range(M):\n",
    "        for k in range(N):\n",
    "            for l in range(M):\n",
    "                k_cos = cos(pi * (2 * i + 1) * k / 2.0 / N)\n",
    "                l_cos = cos(pi * (2 * j + 1) * l / 2.0 / M)\n",
    "                k_alpha = sqrt(1.0 / N) if (k == 0) else sqrt(2.0 / N)\n",
    "                l_alpha = sqrt(1.0 / M) if (l == 0) else sqrt(2.0 / M)\n",
    "                new_shifted[i][j] += dct[k][l] * k_cos * l_cos * k_alpha * l_alpha\n",
    "[[round(new_shifted[i][j]) for j in range(M)] for i in range(N)]"
   ]
  },
  {
   "cell_type": "code",
   "execution_count": null,
   "metadata": {},
   "outputs": [],
   "source": [
    "new_pixels = np.uint8(np.float32(new_shifted) + 128)\n",
    "new_pixels"
   ]
  },
  {
   "cell_type": "code",
   "execution_count": null,
   "metadata": {},
   "outputs": [],
   "source": [
    "plt.imshow(new_pixels, cmap='gray')"
   ]
  },
  {
   "cell_type": "markdown",
   "metadata": {},
   "source": [
    "# Quantize the DCT"
   ]
  },
  {
   "cell_type": "code",
   "execution_count": null,
   "metadata": {},
   "outputs": [],
   "source": [
    "jpeg_q = [\n",
    "    [16, 11, 10, 16, 24, 40, 51, 61],\n",
    "    [12, 12, 14, 19, 26, 58, 60, 55],\n",
    "    [14, 13, 16, 24, 40, 57, 69, 56],\n",
    "    [14, 17, 22, 29, 51, 87, 80, 62],\n",
    "    [18, 22, 37, 56, 68, 109, 103, 77],\n",
    "    [24, 35, 55, 64, 81, 104, 113, 92],\n",
    "    [49, 64, 78, 87, 103, 121, 120, 101],\n",
    "    [72, 92, 95, 98, 112, 100, 103, 99]\n",
    "]"
   ]
  },
  {
   "cell_type": "code",
   "execution_count": null,
   "metadata": {},
   "outputs": [],
   "source": [
    "divided = np.float32(dct) / np.float32(jpeg_q)\n",
    "rounded = np.int8([[int(round(divided[i][j])) for j in range(M)] for i in range(N)])\n",
    "rounded"
   ]
  },
  {
   "cell_type": "code",
   "execution_count": null,
   "metadata": {},
   "outputs": [],
   "source": [
    "compressed_dct = rounded * jpeg_q\n",
    "compressed_shifted = [[0 for _ in range(M)] for _ in range(N)]\n",
    "for i in range(N):\n",
    "    for j in range(M):\n",
    "        for k in range(N):\n",
    "            for l in range(M):\n",
    "                k_cos = cos(pi * (2 * i + 1) * k / 2.0 / N)\n",
    "                l_cos = cos(pi * (2 * j + 1) * l / 2.0 / M)\n",
    "                k_alpha = sqrt(1.0 / N) if (k == 0) else sqrt(2.0 / N)\n",
    "                l_alpha = sqrt(1.0 / M) if (l == 0) else sqrt(2.0 / M)\n",
    "                compressed_shifted[i][j] += compressed_dct[k][l] * k_cos * l_cos * k_alpha * l_alpha\n",
    "compressed_pixels = np.uint8(np.float32(compressed_shifted) + 128)\n",
    "plt.imshow(compressed_pixels, cmap='gray')"
   ]
  }
 ],
 "metadata": {
  "kernelspec": {
   "display_name": "Python 2",
   "language": "python",
   "name": "python2"
  },
  "language_info": {
   "codemirror_mode": {
    "name": "ipython",
    "version": 2
   },
   "file_extension": ".py",
   "mimetype": "text/x-python",
   "name": "python",
   "nbconvert_exporter": "python",
   "pygments_lexer": "ipython2",
   "version": "2.7.12"
  }
 },
 "nbformat": 4,
 "nbformat_minor": 2
}
